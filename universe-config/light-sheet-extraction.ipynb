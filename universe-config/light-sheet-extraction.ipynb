{
 "cells": [
  {
   "cell_type": "code",
   "execution_count": 13,
   "metadata": {},
   "outputs": [],
   "source": [
    "import numpy as np\n",
    "import dask.array.image\n",
    "import mrcfile"
   ]
  },
  {
   "cell_type": "code",
   "execution_count": 2,
   "metadata": {},
   "outputs": [],
   "source": [
    "x = dask.array.image.imread(\"../../data/light sheet/Figure_3-4_Organoid_red_mPO_Hyperstack_0-48h.tif\")"
   ]
  },
  {
   "cell_type": "code",
   "execution_count": 4,
   "metadata": {},
   "outputs": [
    {
     "data": {
      "text/html": [
       "<table>\n",
       "<tr>\n",
       "<td>\n",
       "<table>\n",
       "  <thead>\n",
       "    <tr><td> </td><th> Array </th><th> Chunk </th></tr>\n",
       "  </thead>\n",
       "  <tbody>\n",
       "    <tr><th> Bytes </th><td> 789.13 MB </td> <td> 789.13 MB </td></tr>\n",
       "    <tr><th> Shape </th><td> (1, 96, 48, 213, 402) </td> <td> (1, 96, 48, 213, 402) </td></tr>\n",
       "    <tr><th> Count </th><td> 1 Tasks </td><td> 1 Chunks </td></tr>\n",
       "    <tr><th> Type </th><td> uint16 </td><td> numpy.ndarray </td></tr>\n",
       "  </tbody>\n",
       "</table>\n",
       "</td>\n",
       "<td>\n",
       "<svg width=\"417\" height=\"136\" style=\"stroke:rgb(0,0,0);stroke-width:1\" >\n",
       "\n",
       "  <!-- Horizontal lines -->\n",
       "  <line x1=\"0\" y1=\"0\" x2=\"42\" y2=\"0\" style=\"stroke-width:2\" />\n",
       "  <line x1=\"0\" y1=\"25\" x2=\"42\" y2=\"25\" style=\"stroke-width:2\" />\n",
       "\n",
       "  <!-- Vertical lines -->\n",
       "  <line x1=\"0\" y1=\"0\" x2=\"0\" y2=\"25\" style=\"stroke-width:2\" />\n",
       "  <line x1=\"42\" y1=\"0\" x2=\"42\" y2=\"25\" style=\"stroke-width:2\" />\n",
       "\n",
       "  <!-- Colored Rectangle -->\n",
       "  <polygon points=\"0.0,0.0 42.72516178580284,0.0 42.72516178580284,25.412616514582485 0.0,25.412616514582485\" style=\"fill:#ECB172A0;stroke-width:0\"/>\n",
       "\n",
       "  <!-- Text -->\n",
       "  <text x=\"21.362581\" y=\"45.412617\" font-size=\"1.0rem\" font-weight=\"100\" text-anchor=\"middle\" >96</text>\n",
       "  <text x=\"62.725162\" y=\"12.706308\" font-size=\"1.0rem\" font-weight=\"100\" text-anchor=\"middle\" transform=\"rotate(0,62.725162,12.706308)\">1</text>\n",
       "\n",
       "\n",
       "  <!-- Horizontal lines -->\n",
       "  <line x1=\"112\" y1=\"0\" x2=\"135\" y2=\"23\" style=\"stroke-width:2\" />\n",
       "  <line x1=\"112\" y1=\"63\" x2=\"135\" y2=\"86\" style=\"stroke-width:2\" />\n",
       "\n",
       "  <!-- Vertical lines -->\n",
       "  <line x1=\"112\" y1=\"0\" x2=\"112\" y2=\"63\" style=\"stroke-width:2\" />\n",
       "  <line x1=\"135\" y1=\"23\" x2=\"135\" y2=\"86\" style=\"stroke-width:2\" />\n",
       "\n",
       "  <!-- Colored Rectangle -->\n",
       "  <polygon points=\"112.0,0.0 135.26764808104295,23.267648081042957 135.26764808104295,86.84973763328176 112.0,63.582089552238806\" style=\"fill:#ECB172A0;stroke-width:0\"/>\n",
       "\n",
       "  <!-- Horizontal lines -->\n",
       "  <line x1=\"112\" y1=\"0\" x2=\"232\" y2=\"0\" style=\"stroke-width:2\" />\n",
       "  <line x1=\"135\" y1=\"23\" x2=\"255\" y2=\"23\" style=\"stroke-width:2\" />\n",
       "\n",
       "  <!-- Vertical lines -->\n",
       "  <line x1=\"112\" y1=\"0\" x2=\"135\" y2=\"23\" style=\"stroke-width:2\" />\n",
       "  <line x1=\"232\" y1=\"0\" x2=\"255\" y2=\"23\" style=\"stroke-width:2\" />\n",
       "\n",
       "  <!-- Colored Rectangle -->\n",
       "  <polygon points=\"112.0,0.0 232.0,0.0 255.26764808104295,23.267648081042957 135.26764808104295,23.267648081042957\" style=\"fill:#ECB172A0;stroke-width:0\"/>\n",
       "\n",
       "  <!-- Horizontal lines -->\n",
       "  <line x1=\"135\" y1=\"23\" x2=\"255\" y2=\"23\" style=\"stroke-width:2\" />\n",
       "  <line x1=\"135\" y1=\"86\" x2=\"255\" y2=\"86\" style=\"stroke-width:2\" />\n",
       "\n",
       "  <!-- Vertical lines -->\n",
       "  <line x1=\"135\" y1=\"23\" x2=\"135\" y2=\"86\" style=\"stroke-width:2\" />\n",
       "  <line x1=\"255\" y1=\"23\" x2=\"255\" y2=\"86\" style=\"stroke-width:2\" />\n",
       "\n",
       "  <!-- Colored Rectangle -->\n",
       "  <polygon points=\"135.26764808104295,23.267648081042957 255.26764808104295,23.267648081042957 255.26764808104295,86.84973763328176 135.26764808104295,86.84973763328176\" style=\"fill:#ECB172A0;stroke-width:0\"/>\n",
       "\n",
       "  <!-- Text -->\n",
       "  <text x=\"195.267648\" y=\"106.849738\" font-size=\"1.0rem\" font-weight=\"100\" text-anchor=\"middle\" >402</text>\n",
       "  <text x=\"275.267648\" y=\"55.058693\" font-size=\"1.0rem\" font-weight=\"100\" text-anchor=\"middle\" transform=\"rotate(-90,275.267648,55.058693)\">213</text>\n",
       "  <text x=\"113.633824\" y=\"95.215914\" font-size=\"1.0rem\" font-weight=\"100\" text-anchor=\"middle\" transform=\"rotate(45,113.633824,95.215914)\">48</text>\n",
       "</svg>\n",
       "</td>\n",
       "</tr>\n",
       "</table>"
      ],
      "text/plain": [
       "dask.array<imread, shape=(1, 96, 48, 213, 402), dtype=uint16, chunksize=(1, 96, 48, 213, 402), chunktype=numpy.ndarray>"
      ]
     },
     "execution_count": 4,
     "metadata": {},
     "output_type": "execute_result"
    }
   ],
   "source": [
    "x"
   ]
  },
  {
   "cell_type": "code",
   "execution_count": 12,
   "metadata": {},
   "outputs": [],
   "source": [
    "with open('../../data/light sheet/converted.dat', 'wb') as f:\n",
    "  f.write(np.array(x.shape).astype(np.uint16).tobytes())\n",
    "  f.write(np.asarray(x).astype(np.uint16).tobytes())"
   ]
  }
 ],
 "metadata": {
  "kernelspec": {
   "display_name": "Python 3",
   "language": "python",
   "name": "python3"
  },
  "language_info": {
   "codemirror_mode": {
    "name": "ipython",
    "version": 3
   },
   "file_extension": ".py",
   "mimetype": "text/x-python",
   "name": "python",
   "nbconvert_exporter": "python",
   "pygments_lexer": "ipython3",
   "version": "3.8.5"
  }
 },
 "nbformat": 4,
 "nbformat_minor": 4
}
